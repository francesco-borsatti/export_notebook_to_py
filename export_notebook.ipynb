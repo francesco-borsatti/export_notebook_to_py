{
 "cells": [
  {
   "attachments": {},
   "cell_type": "markdown",
   "metadata": {},
   "source": [
    "# Jupyter notebook export utility\n",
    "Export to a python script file only the notebook cells you mark with `# EXPORT_CELL #`"
   ]
  },
  {
   "attachments": {},
   "cell_type": "markdown",
   "metadata": {},
   "source": [
    "#### Auxiliary functions"
   ]
  },
  {
   "cell_type": "code",
   "execution_count": 1,
   "metadata": {},
   "outputs": [],
   "source": [
    "# EXPORT_CELL #\n",
    "import ast\n",
    "\n",
    "# message colors\n",
    "GREEN = lambda x: '\\033[92m' + x + '\\033[0m'\n",
    "BOLD = lambda x: '\\033[1m'  + x + '\\033[0m'\n",
    "RED = lambda x: '\\033[91m' + x + '\\033[0m'\n",
    "\n",
    "def line_contains_import(line):\n",
    "    try:\n",
    "        parsed = ast.parse(line.strip())\n",
    "        for node in ast.walk(parsed):\n",
    "            if isinstance(node, ast.Import) or isinstance(node, ast.ImportFrom):\n",
    "                return True\n",
    "    except SyntaxError:\n",
    "        pass\n",
    "    return False\n",
    "\n",
    "\n",
    "def user_approval(notebook_path:str, out_file_path:str) -> bool:\n",
    "    \"\"\"\n",
    "    Returns true if user wants to perform the notebook export.\n",
    "    \"\"\"\n",
    "    confirm_export = input('Are you sure you want to export' +\n",
    "                    f'the notebook [{notebook_path}]' + \n",
    "                    f'to [{out_file_path}] ? (y/N) \\n')\n",
    "    if confirm_export.lower() not in ['y', 'yes']:\n",
    "        print(RED('Export aborted.'))\n",
    "        return False\n",
    "    return True\n"
   ]
  },
  {
   "attachments": {},
   "cell_type": "markdown",
   "metadata": {},
   "source": [
    "#### Clean empty lines\n",
    "Function that \"cleans\" the file from excessive empty lines (`\\n`). It limits the number of consecutive empty lines to 2."
   ]
  },
  {
   "cell_type": "code",
   "execution_count": 2,
   "metadata": {},
   "outputs": [],
   "source": [
    "# EXPORT_CELL #\n",
    "\n",
    "def clean_newlines(filepath:str):\n",
    "    with open(filepath, 'r') as f:\n",
    "        lines = f.readlines()\n",
    "\n",
    "    # Remove consecutive empty lines\n",
    "    new_file_buffer = []\n",
    "    empty_count = 0\n",
    "    for line in lines:\n",
    "\n",
    "        if line == '\\n':\n",
    "            empty_count += 1\n",
    "            if empty_count > 2:\n",
    "                continue\n",
    "        else:\n",
    "            empty_count = 0\n",
    "\n",
    "        new_file_buffer.append(line)\n",
    "    \n",
    "    # remove excessive last empty lines\n",
    "    i = 1\n",
    "    try:\n",
    "        while new_file_buffer[-i] == '\\n':\n",
    "            i += 1\n",
    "    except IndexError:\n",
    "        pass\n",
    "\n",
    "    new_file_buffer = new_file_buffer[:-empty_count]    \n",
    "\n",
    "    # Write the new lines to the file\n",
    "    with open(filepath, 'w') as f:\n",
    "        f.writelines(new_file_buffer)\n"
   ]
  },
  {
   "attachments": {},
   "cell_type": "markdown",
   "metadata": {},
   "source": [
    "#### Main function that exports the notebook"
   ]
  },
  {
   "cell_type": "code",
   "execution_count": 3,
   "metadata": {},
   "outputs": [],
   "source": [
    "# EXPORT_CELL #\n",
    "import json\n",
    "import os\n",
    "\n",
    "def export_notebook(notebook_path:str, \n",
    "                    out_dir_path:str = '', \n",
    "                    out_file_name:str = '',\n",
    "                    put_imports_on_top:bool = False) -> None:\n",
    "    \"\"\"\n",
    "    Given a notebook file path, exports only code cells whose first line\n",
    "    is: # EXPORT_CELL #\n",
    "    \n",
    "    - The output directory path is optional, if none is chose it defaults\n",
    "    to the same directory.\n",
    "    - The output file name is optional, if none is chose it defaults to the\n",
    "    same name of the notebook (but with .py extension).\n",
    "    - Put imports on top set to true if you want all the imports to be placed\n",
    "    at the top of the script file.\n",
    "\n",
    "    Example use: export_notebook(notebook_path='./this_notebook.ipynb', \n",
    "        output_dir_path='../folder/', \n",
    "        output_file_name='python_script.py')\n",
    "    \"\"\"\n",
    "\n",
    "    print('[[[[', GREEN(BOLD('EXPORT NOTEBOOK TO PY')), ']]]]')\n",
    "\n",
    "    # if notebook path does not exist\n",
    "    if not os.path.exists(notebook_path):\n",
    "        raise Exception('Notebook path does not exist.')\n",
    "    \n",
    "    # if no filename is given:\n",
    "    if not out_file_name:\n",
    "        # remove folder path\n",
    "        out_file_name = os.path.split(notebook_path)[-1]\n",
    "        # remove .ipynb extension\n",
    "        out_file_name = os.path.splitext(out_file_name)[0]\n",
    "        # add .py extension\n",
    "        out_file_name = out_file_name + '.py'\n",
    "\n",
    "    # if no output directory path is given:\n",
    "    if not os.path.exists(out_dir_path):\n",
    "        out_dir_path = os.path.dirname(notebook_path)\n",
    "\n",
    "    out_file_path = os.path.join(out_dir_path, out_file_name)\n",
    "\n",
    "    # ask the user for if they want to continue\n",
    "    if not user_approval(notebook_path, out_file_path):\n",
    "        return\n",
    "\n",
    "    print('Notebook path:', notebook_path)\n",
    "    print('Output file path:', out_file_path)\n",
    "    \n",
    "    # output file buffer\n",
    "    buffer = []\n",
    "\n",
    "    # keep track of the number of imports in the file to place them in order at the top\n",
    "    import_lines = []\n",
    "\n",
    "    with open(notebook_path, 'r') as f:\n",
    "        data = json.load(f)\n",
    "        for cell in data['cells']:\n",
    "            # skip non-code cells\n",
    "            if cell['cell_type'] != 'code':\n",
    "                continue\n",
    "            # skip empty cells\n",
    "            if not cell['source']:\n",
    "                continue\n",
    "            # skip non marked cells\n",
    "            if '# EXPORT_CELL #' not in cell['source'][0]:\n",
    "                continue\n",
    "            # -- Cell to be exported -- read line by line:\n",
    "            # skip the first line (which contains # EXPORT_CELL #)\n",
    "            for line in cell['source'][1:]:\n",
    "                # if line contains import statement\n",
    "                if put_imports_on_top and line_contains_import(line):\n",
    "                    import_lines.append(line.replace('\\n',''))\n",
    "                    continue\n",
    "                # normal lines are appended at the end\n",
    "                buffer.append(line)\n",
    "            # put a new line at the end of cells\n",
    "            buffer.append('\\n\\n')\n",
    "\n",
    "    # place a warning message at the top of the file\n",
    "    initial_message = ['#### THIS FILE WAS AUTOMATICALLY GENERATED - DO NOT EDIT ####\\n',\n",
    "                       f'# Edit source notebook instead: {notebook_path}\\n\\n']\n",
    "\n",
    "    # save final lines to another buffer to output file\n",
    "    with open(out_file_path, 'w') as out_file:\n",
    "        for line in initial_message:\n",
    "            out_file.write(line)\n",
    "        # nicely place imports\n",
    "        if put_imports_on_top:\n",
    "            for line in import_lines:\n",
    "                out_file.write(line + '\\n')\n",
    "            out_file.write('\\n')\n",
    "        # write the rest of the file\n",
    "        for line in buffer:\n",
    "            out_file.write(line)\n",
    "\n",
    "    # clean file from excessive empty lines\n",
    "    clean_newlines(out_file_path)\n",
    "    \n",
    "    # process ended\n",
    "    print('[-----', GREEN('Export  completed') ,'-----]')\n"
   ]
  },
  {
   "cell_type": "code",
   "execution_count": 4,
   "metadata": {},
   "outputs": [
    {
     "name": "stdout",
     "output_type": "stream",
     "text": [
      "[[[[ \u001b[92m\u001b[1mEXPORT NOTEBOOK TO PY\u001b[0m\u001b[0m ]]]]\n",
      "Notebook path: ./export_notebook.ipynb\n",
      "Output file path: ./export_notebook.py\n",
      "[----- \u001b[92mExport  completed\u001b[0m -----]\n"
     ]
    }
   ],
   "source": [
    "export_notebook('./export_notebook.ipynb', put_imports_on_top=True)"
   ]
  }
 ],
 "metadata": {
  "kernelspec": {
   "display_name": "Python 3",
   "language": "python",
   "name": "python3"
  },
  "language_info": {
   "codemirror_mode": {
    "name": "ipython",
    "version": 3
   },
   "file_extension": ".py",
   "mimetype": "text/x-python",
   "name": "python",
   "nbconvert_exporter": "python",
   "pygments_lexer": "ipython3",
   "version": "3.10.6"
  },
  "orig_nbformat": 4,
  "vscode": {
   "interpreter": {
    "hash": "31f2aee4e71d21fbe5cf8b01ff0e069b9275f58929596ceb00d14d90e3e16cd6"
   }
  }
 },
 "nbformat": 4,
 "nbformat_minor": 2
}
