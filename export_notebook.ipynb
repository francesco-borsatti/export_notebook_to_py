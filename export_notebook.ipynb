{
 "cells": [
  {
   "attachments": {},
   "cell_type": "markdown",
   "metadata": {},
   "source": [
    "# Jupyter notebook export utility\n",
    "Export to a python script file only the notebook cells you mark with `#_CELL_TO_EXPORT_#`"
   ]
  },
  {
   "cell_type": "code",
   "execution_count": 1,
   "metadata": {},
   "outputs": [],
   "source": [
    "#_CELL_TO_EXPORT_#\n",
    "import json\n",
    "import os\n",
    "\n",
    "def export_notebook(notebook_path:str, \n",
    "                    out_dir_path:str = '', \n",
    "                    out_file_name:str = '') -> None:\n",
    "    \"\"\"\n",
    "    Given a notebook file path, exports only code cells whose first line\n",
    "    is: #_CELL_TO_EXPORT_#\n",
    "    \n",
    "    The output directory path is optional, if none is chose it defaults\n",
    "    to the same directory.\n",
    "    The output file name is optional, if none is chose it defaults to the\n",
    "    same name of the notebook (but with .py extension).\n",
    "\n",
    "    Example use: export_notebook(notebook_path='./this_notebook.ipynb',\n",
    "                        output_dir_path='../folder/',\n",
    "                        output_file_name='python_script.py')\n",
    "    \"\"\"\n",
    "\n",
    "    # message colors\n",
    "    GREEN = lambda x: '\\033[92m' + x + '\\033[0m'\n",
    "    BOLD = lambda x: '\\033[1m'  + x + '\\033[0m'\n",
    "    RED = lambda x: '\\033[91m' + x + '\\033[0m'\n",
    "\n",
    "    print('[[[[', GREEN(BOLD('EXPORT NOTEBOOK TO PY')), ']]]]')\n",
    "\n",
    "    # if notebook path does not exist\n",
    "    if not os.path.exists(notebook_path):\n",
    "        raise Exception('Notebook path does not exist.')\n",
    "    \n",
    "    # if no filename is given:\n",
    "    if not out_file_name:\n",
    "        # remove folder path\n",
    "        out_file_name = os.path.split(notebook_path)[-1]\n",
    "        # remove .ipynb extension\n",
    "        out_file_name = os.path.splitext(out_file_name)[0]\n",
    "        # add .py extension\n",
    "        out_file_name = out_file_name + '.py'\n",
    "\n",
    "    # if no output directory path is given:\n",
    "    if not os.path.exists(out_dir_path):\n",
    "        out_dir_path = os.path.dirname(notebook_path)\n",
    "\n",
    "    out_file_path = os.path.join(out_dir_path, out_file_name)\n",
    "\n",
    "    confirm_export = input('Are you sure you want to export' +\n",
    "                        f'the notebook [{notebook_path}]' + \n",
    "                        f'to [{out_file_path}] ? (y/N)')\n",
    "\n",
    "    if confirm_export.lower() not in ['y', 'yes']:\n",
    "        print(RED('Export aborted.'))\n",
    "        return\n",
    "\n",
    "    print('Notebook path:', notebook_path)\n",
    "    print('Output file path:', out_file_path)\n",
    "    \n",
    "    # output file buffer\n",
    "    buffer = []\n",
    "\n",
    "    with open(notebook_path, 'r') as f:\n",
    "        data = json.load(f)\n",
    "        for cell in data['cells']:\n",
    "            if cell['cell_type'] == 'code':\n",
    "                # if the first line contains the keyword that indicates \n",
    "                # the cell needs to be exported\n",
    "                try:\n",
    "                    if '#_CELL_TO_EXPORT_#' in cell['source'][0]:\n",
    "                            # skip the first line\n",
    "                            for line in cell['source'][1:]:\n",
    "                                buffer.append(line)\n",
    "                            buffer.append('\\n')\n",
    "                except IndexError:\n",
    "                    pass\n",
    "\n",
    "    with open(out_file_path, 'w') as out_file:\n",
    "        for line in buffer:\n",
    "            out_file.write(line)\n",
    "               # [[[[ EXPORT NOTEBOOK TO PY ]]]]\n",
    "    print('[-----', GREEN('Export  completed') ,'-----]')"
   ]
  },
  {
   "cell_type": "code",
   "execution_count": 2,
   "metadata": {},
   "outputs": [
    {
     "name": "stdout",
     "output_type": "stream",
     "text": [
      "[[[[ \u001b[92m\u001b[1mEXPORT NOTEBOOK TO PY\u001b[0m\u001b[0m ]]]]\n",
      "Notebook path: ./export_notebook.ipynb\n",
      "Output file path: ./export_notebook.py\n",
      "[----- \u001b[92mExport  completed\u001b[0m -----]\n"
     ]
    }
   ],
   "source": [
    "export_notebook('./export_notebook.ipynb')"
   ]
  },
  {
   "cell_type": "code",
   "execution_count": null,
   "metadata": {},
   "outputs": [],
   "source": []
  }
 ],
 "metadata": {
  "kernelspec": {
   "display_name": "Python 3",
   "language": "python",
   "name": "python3"
  },
  "language_info": {
   "codemirror_mode": {
    "name": "ipython",
    "version": 3
   },
   "file_extension": ".py",
   "mimetype": "text/x-python",
   "name": "python",
   "nbconvert_exporter": "python",
   "pygments_lexer": "ipython3",
   "version": "3.10.6"
  },
  "orig_nbformat": 4,
  "vscode": {
   "interpreter": {
    "hash": "31f2aee4e71d21fbe5cf8b01ff0e069b9275f58929596ceb00d14d90e3e16cd6"
   }
  }
 },
 "nbformat": 4,
 "nbformat_minor": 2
}
